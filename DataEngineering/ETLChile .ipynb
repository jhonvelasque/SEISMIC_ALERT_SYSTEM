{
 "cells": [
  {
   "cell_type": "code",
   "execution_count": 2,
   "metadata": {},
   "outputs": [],
   "source": [
    "\n",
    "from selenium import webdriver\n",
    "from selenium.webdriver.common.by import By\n",
    "from selenium.webdriver.support.ui import WebDriverWait\n",
    "from selenium.webdriver.support import expected_conditions as EC\n",
    "import pandas as pd\n"
   ]
  },
  {
   "cell_type": "code",
   "execution_count": 6,
   "metadata": {},
   "outputs": [
    {
     "ename": "TimeoutException",
     "evalue": "Message: \nStacktrace:\n#0 0x55d2c3a71133 <unknown>\n#1 0x55d2c37a5966 <unknown>\n#2 0x55d2c37e20dc <unknown>\n#3 0x55d2c37e2211 <unknown>\n#4 0x55d2c381c6c4 <unknown>\n#5 0x55d2c3801bfd <unknown>\n#6 0x55d2c381a1c7 <unknown>\n#7 0x55d2c38019a3 <unknown>\n#8 0x55d2c37d646a <unknown>\n#9 0x55d2c37d755e <unknown>\n#10 0x55d2c3a30cae <unknown>\n#11 0x55d2c3a348fe <unknown>\n#12 0x55d2c3a3df20 <unknown>\n#13 0x55d2c3a35923 <unknown>\n#14 0x55d2c3a08c0e <unknown>\n#15 0x55d2c3a58b08 <unknown>\n#16 0x55d2c3a58c97 <unknown>\n#17 0x55d2c3a69113 <unknown>\n#18 0x7efe96094b43 <unknown>\n",
     "output_type": "error",
     "traceback": [
      "\u001b[0;31m---------------------------------------------------------------------------\u001b[0m",
      "\u001b[0;31mTimeoutException\u001b[0m                          Traceback (most recent call last)",
      "Cell \u001b[0;32mIn[6], line 10\u001b[0m\n\u001b[1;32m      8\u001b[0m \u001b[39m# Espera a que la tabla cargue completamente\u001b[39;00m\n\u001b[1;32m      9\u001b[0m wait \u001b[39m=\u001b[39m WebDriverWait(driver, \u001b[39m10\u001b[39m)\n\u001b[0;32m---> 10\u001b[0m tabla \u001b[39m=\u001b[39m wait\u001b[39m.\u001b[39;49muntil(EC\u001b[39m.\u001b[39;49mpresence_of_element_located((By\u001b[39m.\u001b[39;49mID, \u001b[39m'\u001b[39;49m\u001b[39msismologia detalle\u001b[39;49m\u001b[39m'\u001b[39;49m)))\n\u001b[1;32m     12\u001b[0m \u001b[39m# Extrae los datos de la tabla\u001b[39;00m\n\u001b[1;32m     13\u001b[0m datos \u001b[39m=\u001b[39m []\n",
      "File \u001b[0;32m~/.local/lib/python3.10/site-packages/selenium/webdriver/support/wait.py:95\u001b[0m, in \u001b[0;36mWebDriverWait.until\u001b[0;34m(self, method, message)\u001b[0m\n\u001b[1;32m     93\u001b[0m     \u001b[39mif\u001b[39;00m time\u001b[39m.\u001b[39mmonotonic() \u001b[39m>\u001b[39m end_time:\n\u001b[1;32m     94\u001b[0m         \u001b[39mbreak\u001b[39;00m\n\u001b[0;32m---> 95\u001b[0m \u001b[39mraise\u001b[39;00m TimeoutException(message, screen, stacktrace)\n",
      "\u001b[0;31mTimeoutException\u001b[0m: Message: \nStacktrace:\n#0 0x55d2c3a71133 <unknown>\n#1 0x55d2c37a5966 <unknown>\n#2 0x55d2c37e20dc <unknown>\n#3 0x55d2c37e2211 <unknown>\n#4 0x55d2c381c6c4 <unknown>\n#5 0x55d2c3801bfd <unknown>\n#6 0x55d2c381a1c7 <unknown>\n#7 0x55d2c38019a3 <unknown>\n#8 0x55d2c37d646a <unknown>\n#9 0x55d2c37d755e <unknown>\n#10 0x55d2c3a30cae <unknown>\n#11 0x55d2c3a348fe <unknown>\n#12 0x55d2c3a3df20 <unknown>\n#13 0x55d2c3a35923 <unknown>\n#14 0x55d2c3a08c0e <unknown>\n#15 0x55d2c3a58b08 <unknown>\n#16 0x55d2c3a58c97 <unknown>\n#17 0x55d2c3a69113 <unknown>\n#18 0x7efe96094b43 <unknown>\n"
     ]
    }
   ],
   "source": [
    "\n",
    "# Define la URL de la página que deseas extraer\n",
    "url = 'https://www.sismologia.cl/sismicidad/catalogo/2023/05/20230516.html'\n",
    "\n",
    "# Configura el controlador de Selenium para abrir la página en un navegador\n",
    "driver = webdriver.Chrome()\n",
    "driver.get(url)\n",
    "\n",
    "# Espera a que la tabla cargue completamente\n",
    "wait = WebDriverWait(driver, 10)\n",
    "tabla = wait.until(EC.presence_of_element_located((By.CLASS_NAME, 'sismologia detalle')))\n",
    "\n",
    "# Extrae los datos de la tabla\n",
    "datos = []\n",
    "datos = []\n",
    "filas = tabla.find_elements(By.TAG_NAME, 'tr')\n",
    "for fila in filas[1:]:\n",
    "    columnas = fila.find_elements(By.TAG_NAME, 'td')\n",
    "    dato_1 = columnas[0].text\n",
    "    dato_2 = columnas[1].text\n",
    "    dato_3 = columnas[2].text\n",
    "    dato_4 = columnas[3].text\n",
    "    dato_5 = columnas[4].text\n",
    "    datos.append([dato_1, dato_2, dato_3,dato_4,dato_5,])\n",
    "\n",
    "# Crea un dataframe de pandas con los datos extraídos de la tabla\n",
    "df = pd.DataFrame(datos, columns=['Issued', 'Origin Time', 'Mag ','long','Lat ','Lon ','Location'])\n",
    "\n",
    "# Cierra el navegador\n",
    "driver.quit()\n",
    "\n",
    "# Guarda el dataframe en un archivo CSV\n",
    "df.to_csv('ChileActualizado.csv', index=False)\n",
    "\n",
    "# Imprime el dataframe para verificar que se haya creado correctamente\n",
    "print(df)\n"
   ]
  },
  {
   "cell_type": "code",
   "execution_count": null,
   "metadata": {},
   "outputs": [],
   "source": [
    "unionbd = []\n",
    "\n",
    "df2 = "
   ]
  }
 ],
 "metadata": {
  "kernelspec": {
   "display_name": "Python 3.11.0 64-bit",
   "language": "python",
   "name": "python3"
  },
  "language_info": {
   "codemirror_mode": {
    "name": "ipython",
    "version": 3
   },
   "file_extension": ".py",
   "mimetype": "text/x-python",
   "name": "python",
   "nbconvert_exporter": "python",
   "pygments_lexer": "ipython3",
   "version": "3.10.6"
  },
  "orig_nbformat": 4,
  "vscode": {
   "interpreter": {
    "hash": "5238573367df39f7286bb46f9ff5f08f63a01a80960060ce41e3c79b190280fa"
   }
  }
 },
 "nbformat": 4,
 "nbformat_minor": 2
}
