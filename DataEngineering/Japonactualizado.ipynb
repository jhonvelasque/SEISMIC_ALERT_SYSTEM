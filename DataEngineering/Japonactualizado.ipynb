{
 "cells": [
  {
   "cell_type": "code",
   "execution_count": 11,
   "metadata": {},
   "outputs": [],
   "source": [
    "import pandas as pd\n",
    "import time\n",
    "from selenium import webdriver\n",
    "from selenium.webdriver.chrome.service import Service\n",
    "from selenium.webdriver.common.by import By\n",
    "from selenium.webdriver.chrome.options import Options\n",
    "from selenium.webdriver.common.action_chains import ActionChains\n",
    "from selenium.webdriver.support.ui import WebDriverWait\n",
    "from selenium.webdriver.support import expected_conditions as EC"
   ]
  },
  {
   "attachments": {},
   "cell_type": "markdown",
   "metadata": {},
   "source": []
  },
  {
   "cell_type": "code",
   "execution_count": 2,
   "metadata": {},
   "outputs": [],
   "source": [
    "\n",
    "# Configurar el límite de caracteres a mostrar\n",
    "pd.set_option('display.max_colwidth', None)\n",
    "\n",
    "# Tu código de extracción y creación del DataFrame aquí\n"
   ]
  },
  {
   "cell_type": "code",
   "execution_count": 4,
   "metadata": {},
   "outputs": [
    {
     "name": "stderr",
     "output_type": "stream",
     "text": [
      "/tmp/ipykernel_51338/3008020181.py:1: DeprecationWarning: executable_path has been deprecated, please pass in a Service object\n",
      "  driver = webdriver.Chrome('str/chromedriver')\n"
     ]
    }
   ],
   "source": [
    "driver = webdriver.Chrome('str/chromedriver')"
   ]
  },
  {
   "cell_type": "code",
   "execution_count": 5,
   "metadata": {},
   "outputs": [],
   "source": [
    "url = 'https://www.data.jma.go.jp/multi/quake/index.html?lang=es'\n",
    "driver.get(url)"
   ]
  },
  {
   "cell_type": "code",
   "execution_count": 9,
   "metadata": {},
   "outputs": [],
   "source": [
    "wait = WebDriverWait(driver,10)"
   ]
  },
  {
   "cell_type": "code",
   "execution_count": 12,
   "metadata": {},
   "outputs": [
    {
     "ename": "NoSuchWindowException",
     "evalue": "Message: no such window: target window already closed\nfrom unknown error: web view not found\n  (Session info: chrome=113.0.5672.92)\nStacktrace:\n#0 0x562a8cbe3133 <unknown>\n#1 0x562a8c917966 <unknown>\n#2 0x562a8c8f1cec <unknown>\n#3 0x562a8c978c0f <unknown>\n#4 0x562a8c98bc2b <unknown>\n#5 0x562a8c9739a3 <unknown>\n#6 0x562a8c94846a <unknown>\n#7 0x562a8c94955e <unknown>\n#8 0x562a8cba2cae <unknown>\n#9 0x562a8cba68fe <unknown>\n#10 0x562a8cbaff20 <unknown>\n#11 0x562a8cba7923 <unknown>\n#12 0x562a8cb7ac0e <unknown>\n#13 0x562a8cbcab08 <unknown>\n#14 0x562a8cbcac97 <unknown>\n#15 0x562a8cbdb113 <unknown>\n#16 0x7f3ad2694b43 <unknown>\n",
     "output_type": "error",
     "traceback": [
      "\u001b[0;31m---------------------------------------------------------------------------\u001b[0m",
      "\u001b[0;31mNoSuchWindowException\u001b[0m                     Traceback (most recent call last)",
      "Cell \u001b[0;32mIn[12], line 1\u001b[0m\n\u001b[0;32m----> 1\u001b[0m tabla \u001b[39m=\u001b[39m wait\u001b[39m.\u001b[39;49muntil(EC\u001b[39m.\u001b[39;49mpresence_of_element_located((By\u001b[39m.\u001b[39;49mID, \u001b[39m'\u001b[39;49m\u001b[39mquakeindex_table\u001b[39;49m\u001b[39m'\u001b[39;49m)))\n",
      "File \u001b[0;32m~/.local/lib/python3.10/site-packages/selenium/webdriver/support/wait.py:86\u001b[0m, in \u001b[0;36mWebDriverWait.until\u001b[0;34m(self, method, message)\u001b[0m\n\u001b[1;32m     84\u001b[0m \u001b[39mwhile\u001b[39;00m \u001b[39mTrue\u001b[39;00m:\n\u001b[1;32m     85\u001b[0m     \u001b[39mtry\u001b[39;00m:\n\u001b[0;32m---> 86\u001b[0m         value \u001b[39m=\u001b[39m method(\u001b[39mself\u001b[39;49m\u001b[39m.\u001b[39;49m_driver)\n\u001b[1;32m     87\u001b[0m         \u001b[39mif\u001b[39;00m value:\n\u001b[1;32m     88\u001b[0m             \u001b[39mreturn\u001b[39;00m value\n",
      "File \u001b[0;32m~/.local/lib/python3.10/site-packages/selenium/webdriver/support/expected_conditions.py:69\u001b[0m, in \u001b[0;36mpresence_of_element_located.<locals>._predicate\u001b[0;34m(driver)\u001b[0m\n\u001b[1;32m     68\u001b[0m \u001b[39mdef\u001b[39;00m \u001b[39m_predicate\u001b[39m(driver):\n\u001b[0;32m---> 69\u001b[0m     \u001b[39mreturn\u001b[39;00m driver\u001b[39m.\u001b[39;49mfind_element(\u001b[39m*\u001b[39;49mlocator)\n",
      "File \u001b[0;32m~/.local/lib/python3.10/site-packages/selenium/webdriver/remote/webdriver.py:831\u001b[0m, in \u001b[0;36mWebDriver.find_element\u001b[0;34m(self, by, value)\u001b[0m\n\u001b[1;32m    828\u001b[0m     by \u001b[39m=\u001b[39m By\u001b[39m.\u001b[39mCSS_SELECTOR\n\u001b[1;32m    829\u001b[0m     value \u001b[39m=\u001b[39m \u001b[39mf\u001b[39m\u001b[39m'\u001b[39m\u001b[39m[name=\u001b[39m\u001b[39m\"\u001b[39m\u001b[39m{\u001b[39;00mvalue\u001b[39m}\u001b[39;00m\u001b[39m\"\u001b[39m\u001b[39m]\u001b[39m\u001b[39m'\u001b[39m\n\u001b[0;32m--> 831\u001b[0m \u001b[39mreturn\u001b[39;00m \u001b[39mself\u001b[39;49m\u001b[39m.\u001b[39;49mexecute(Command\u001b[39m.\u001b[39;49mFIND_ELEMENT, {\u001b[39m\"\u001b[39;49m\u001b[39musing\u001b[39;49m\u001b[39m\"\u001b[39;49m: by, \u001b[39m\"\u001b[39;49m\u001b[39mvalue\u001b[39;49m\u001b[39m\"\u001b[39;49m: value})[\u001b[39m\"\u001b[39m\u001b[39mvalue\u001b[39m\u001b[39m\"\u001b[39m]\n",
      "File \u001b[0;32m~/.local/lib/python3.10/site-packages/selenium/webdriver/remote/webdriver.py:440\u001b[0m, in \u001b[0;36mWebDriver.execute\u001b[0;34m(self, driver_command, params)\u001b[0m\n\u001b[1;32m    438\u001b[0m response \u001b[39m=\u001b[39m \u001b[39mself\u001b[39m\u001b[39m.\u001b[39mcommand_executor\u001b[39m.\u001b[39mexecute(driver_command, params)\n\u001b[1;32m    439\u001b[0m \u001b[39mif\u001b[39;00m response:\n\u001b[0;32m--> 440\u001b[0m     \u001b[39mself\u001b[39;49m\u001b[39m.\u001b[39;49merror_handler\u001b[39m.\u001b[39;49mcheck_response(response)\n\u001b[1;32m    441\u001b[0m     response[\u001b[39m\"\u001b[39m\u001b[39mvalue\u001b[39m\u001b[39m\"\u001b[39m] \u001b[39m=\u001b[39m \u001b[39mself\u001b[39m\u001b[39m.\u001b[39m_unwrap_value(response\u001b[39m.\u001b[39mget(\u001b[39m\"\u001b[39m\u001b[39mvalue\u001b[39m\u001b[39m\"\u001b[39m, \u001b[39mNone\u001b[39;00m))\n\u001b[1;32m    442\u001b[0m     \u001b[39mreturn\u001b[39;00m response\n",
      "File \u001b[0;32m~/.local/lib/python3.10/site-packages/selenium/webdriver/remote/errorhandler.py:245\u001b[0m, in \u001b[0;36mErrorHandler.check_response\u001b[0;34m(self, response)\u001b[0m\n\u001b[1;32m    243\u001b[0m         alert_text \u001b[39m=\u001b[39m value[\u001b[39m\"\u001b[39m\u001b[39malert\u001b[39m\u001b[39m\"\u001b[39m]\u001b[39m.\u001b[39mget(\u001b[39m\"\u001b[39m\u001b[39mtext\u001b[39m\u001b[39m\"\u001b[39m)\n\u001b[1;32m    244\u001b[0m     \u001b[39mraise\u001b[39;00m exception_class(message, screen, stacktrace, alert_text)  \u001b[39m# type: ignore[call-arg]  # mypy is not smart enough here\u001b[39;00m\n\u001b[0;32m--> 245\u001b[0m \u001b[39mraise\u001b[39;00m exception_class(message, screen, stacktrace)\n",
      "\u001b[0;31mNoSuchWindowException\u001b[0m: Message: no such window: target window already closed\nfrom unknown error: web view not found\n  (Session info: chrome=113.0.5672.92)\nStacktrace:\n#0 0x562a8cbe3133 <unknown>\n#1 0x562a8c917966 <unknown>\n#2 0x562a8c8f1cec <unknown>\n#3 0x562a8c978c0f <unknown>\n#4 0x562a8c98bc2b <unknown>\n#5 0x562a8c9739a3 <unknown>\n#6 0x562a8c94846a <unknown>\n#7 0x562a8c94955e <unknown>\n#8 0x562a8cba2cae <unknown>\n#9 0x562a8cba68fe <unknown>\n#10 0x562a8cbaff20 <unknown>\n#11 0x562a8cba7923 <unknown>\n#12 0x562a8cb7ac0e <unknown>\n#13 0x562a8cbcab08 <unknown>\n#14 0x562a8cbcac97 <unknown>\n#15 0x562a8cbdb113 <unknown>\n#16 0x7f3ad2694b43 <unknown>\n"
     ]
    }
   ],
   "source": [
    "tabla = wait.until(EC.presence_of_element_located((By.ID, 'quakeindex_table')))"
   ]
  },
  {
   "cell_type": "code",
   "execution_count": 123,
   "metadata": {},
   "outputs": [],
   "source": [
    "time.sleep(2) "
   ]
  },
  {
   "cell_type": "code",
   "execution_count": 124,
   "metadata": {},
   "outputs": [
    {
     "name": "stdout",
     "output_type": "stream",
     "text": [
      "                                                                                      Enlace\n",
      "0    https://www.data.jma.go.jp/multi/quake/quake_detail.html?eventID=20230517143244&lang=es\n",
      "1    https://www.data.jma.go.jp/multi/quake/quake_detail.html?eventID=20230517142801&lang=es\n",
      "2    https://www.data.jma.go.jp/multi/quake/quake_detail.html?eventID=20230517112947&lang=es\n",
      "3    https://www.data.jma.go.jp/multi/quake/quake_detail.html?eventID=20230517003740&lang=es\n",
      "4    https://www.data.jma.go.jp/multi/quake/quake_detail.html?eventID=20230516210104&lang=es\n",
      "..                                                                                       ...\n",
      "266  https://www.data.jma.go.jp/multi/quake/quake_detail.html?eventID=20230420094616&lang=es\n",
      "267  https://www.data.jma.go.jp/multi/quake/quake_detail.html?eventID=20230420022632&lang=es\n",
      "268  https://www.data.jma.go.jp/multi/quake/quake_detail.html?eventID=20230419094044&lang=es\n",
      "269  https://www.data.jma.go.jp/multi/quake/quake_detail.html?eventID=20230418220059&lang=es\n",
      "270  https://www.data.jma.go.jp/multi/quake/quake_detail.html?eventID=20230418170624&lang=es\n",
      "\n",
      "[271 rows x 1 columns]\n"
     ]
    }
   ],
   "source": [
    "filas = tabla.find_elements(By.XPATH, './/tr')\n",
    "# Recorrer las filas de la tabla y extraer los enlaces\n",
    "enlaces = []\n",
    "for i in range(1, len(filas)):  # Ignorar la primera fila (encabezados de columna)\n",
    "    fila = filas[i]  # Obtener la fila actual\n",
    "    \n",
    "    # Obtener el enlace\n",
    "    enlace = fila.find_element(By.XPATH, './/td[1]/a').get_attribute('href')\n",
    "    enlaces.append(enlace)\n",
    "    \n",
    "\n",
    "# Guardar los enlaces en un DataFrame\n",
    "df_enlaces = pd.DataFrame(enlaces, columns=['Enlace'])\n",
    "\n"
   ]
  },
  {
   "cell_type": "code",
   "execution_count": 163,
   "metadata": {},
   "outputs": [],
   "source": [
    "df_enlaces.to_csv('str/historiallink.csv',index=False)  "
   ]
  },
  {
   "cell_type": "code",
   "execution_count": 162,
   "metadata": {},
   "outputs": [
    {
     "name": "stdout",
     "output_type": "stream",
     "text": [
      "    Fecha detectado el terremoto longitud latitud Magnitud    profundidad   \n",
      "0               2023/05/17 14:29    29.9N  130.1E      2.7           10km  \\\n",
      "1               2023/05/17 14:24    24.8N  125.2E      3.7           20km   \n",
      "2               2023/05/17 11:26    29.9N  130.0E      3.1           10km   \n",
      "3               2023/05/17 00:34    29.9N  130.0E      3.0           10km   \n",
      "4               2023/05/16 20:56    33.4N  139.3E      4.7           10km   \n",
      "..                           ...      ...     ...      ...            ...   \n",
      "264             2023/04/20 09:42    26.9N  141.5E      4.4  Poco profundo   \n",
      "265             2023/04/20 02:23    34.0N  135.1E      2.8           10km   \n",
      "266             2023/04/19 09:37    37.5N  137.2E      3.2           10km   \n",
      "267             2023/04/18 21:56    29.8N  129.9E      2.0           10km   \n",
      "268             2023/04/18 17:03    26.7N  127.8E      3.2           50km   \n",
      "\n",
      "                                           lugar  \n",
      "0                 Mares cercanos de Islas Tokara  \n",
      "1                  Mares cercanos de Isla Miyako  \n",
      "2                 Mares cercanos de Islas Tokara  \n",
      "3                 Mares cercanos de Islas Tokara  \n",
      "4             Mares cercanos de Isla de Hachijyo  \n",
      "..                                           ...  \n",
      "264           Mares cercanos de Isla Chichishima  \n",
      "265                                 Canal de Kii  \n",
      "266          Región Noto, Prefectura de Ishikawa  \n",
      "267               Mares cercanos de Islas Tokara  \n",
      "268  Mares cercanos de Isla principal de Okinawa  \n",
      "\n",
      "[269 rows x 6 columns]\n"
     ]
    }
   ],
   "source": [
    "def scrape_page(url):\n",
    "    # Configurar Selenium\n",
    "    options = Options()\n",
    "    options.add_argument(\"--headless\")  # Ejecutar en modo headless (sin ventana)\n",
    "    service = Service('str/chromedriver')  # Reemplaza con la ubicación de tu archivo chromedriver\n",
    "\n",
    "    # Inicializar el controlador de Selenium\n",
    "    driver = webdriver.Chrome(service=service, options=options)\n",
    "    driver.get(url)\n",
    "    \n",
    "    # Esperar 2 segundos para que se cargue la página\n",
    "    time.sleep(2)\n",
    "    \n",
    "    # Buscar la tabla por su ID\n",
    "    table = driver.find_element(By.ID, 'quakeindex_table')\n",
    "    \n",
    "    # Extraer los datos de la tabla\n",
    "    data = []\n",
    "    rows = table.find_elements(By.TAG_NAME, 'tr')\n",
    "    \n",
    "    for row in rows[1:]:  # Omitir la primera fila (encabezados)\n",
    "        columns = row.find_elements(By.TAG_NAME, 'td')\n",
    "        fecha = columns[0].text\n",
    "        longitud = columns[1].text\n",
    "        latitud = columns[2].text\n",
    "        magnitud = columns[3].text\n",
    "        profundidad = columns[4].text\n",
    "        lugar = columns[5].text\n",
    "        \n",
    "        data.append({\n",
    "            'Fecha detectado el terremoto': fecha,\n",
    "            'longitud': longitud,\n",
    "            'latitud': latitud,\n",
    "            'Magnitud': magnitud,\n",
    "            'profundidad': profundidad,\n",
    "            'lugar': lugar\n",
    "        })\n",
    "    \n",
    "    # Cerrar el controlador de Selenium\n",
    "    driver.quit()\n",
    "    \n",
    "    return pd.DataFrame(data)\n",
    "\n",
    "# Crear una lista para almacenar los DataFrames raspados\n",
    "dfs = []\n",
    "\n",
    "# Aplicar la función de scraping a cada enlace en el DataFrame\n",
    "for index, row in df_enlaces.iterrows():\n",
    "    url = row['Enlace']\n",
    "    scraped_data = scrape_page(url)\n",
    "    \n",
    "    if scraped_data is not None:\n",
    "        dfs.append(scraped_data)\n",
    "\n",
    "# Concatenar los DataFrames en uno nuevo\n",
    "new_df = pd.concat(dfs, ignore_index=True)\n",
    "\n",
    "# Imprimir el nuevo DataFrame resultante\n",
    "print(new_df)"
   ]
  },
  {
   "cell_type": "code",
   "execution_count": 176,
   "metadata": {},
   "outputs": [],
   "source": [
    "new_df.to_csv('str/data_actualizadajapon.csv')"
   ]
  }
 ],
 "metadata": {
  "kernelspec": {
   "display_name": "Python 3.11.0 64-bit",
   "language": "python",
   "name": "python3"
  },
  "language_info": {
   "codemirror_mode": {
    "name": "ipython",
    "version": 3
   },
   "file_extension": ".py",
   "mimetype": "text/x-python",
   "name": "python",
   "nbconvert_exporter": "python",
   "pygments_lexer": "ipython3",
   "version": "3.10.6"
  },
  "orig_nbformat": 4,
  "vscode": {
   "interpreter": {
    "hash": "5238573367df39f7286bb46f9ff5f08f63a01a80960060ce41e3c79b190280fa"
   }
  }
 },
 "nbformat": 4,
 "nbformat_minor": 2
}
